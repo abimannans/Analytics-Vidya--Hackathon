{
  "nbformat": 4,
  "nbformat_minor": 0,
  "metadata": {
    "colab": {
      "name": "Ltfs forecasting.ipynb",
      "provenance": [],
      "toc_visible": true
    },
    "kernelspec": {
      "name": "python3",
      "display_name": "Python 3"
    },
    "accelerator": "GPU"
  },
  "cells": [
    {
      "cell_type": "code",
      "metadata": {
        "id": "zjw4SxhclEwE",
        "colab_type": "code",
        "colab": {
          "base_uri": "https://localhost:8080/",
          "height": 71
        },
        "outputId": "2c673774-f8d7-4dd3-d0ad-7e8457b1d690"
      },
      "source": [
        "import pandas as pd\n",
        "import numpy as np\n",
        "import matplotlib.pyplot as plt\n",
        "%matplotlib inline\n",
        "import seaborn as sns\n",
        "from sklearn.model_selection import train_test_split,KFold,cross_val_score,RandomizedSearchCV,GridSearchCV\n",
        "from sklearn.linear_model import LinearRegression,Ridge,Lasso\n",
        "from sklearn.ensemble import RandomForestRegressor\n",
        "from sklearn.metrics.scorer import make_scorer"
      ],
      "execution_count": 1,
      "outputs": [
        {
          "output_type": "stream",
          "text": [
            "/usr/local/lib/python3.6/dist-packages/sklearn/utils/deprecation.py:144: FutureWarning: The sklearn.metrics.scorer module is  deprecated in version 0.22 and will be removed in version 0.24. The corresponding classes / functions should instead be imported from sklearn.metrics. Anything that cannot be imported from sklearn.metrics is now part of the private API.\n",
            "  warnings.warn(message, FutureWarning)\n"
          ],
          "name": "stderr"
        }
      ]
    },
    {
      "cell_type": "code",
      "metadata": {
        "id": "hmiSpFlNldcL",
        "colab_type": "code",
        "colab": {}
      },
      "source": [
        "# Loading data\n",
        "train = pd.read_csv('train_fwYjLYX.csv', parse_dates=['application_date'])\n",
        "test = pd.read_csv('test_1eLl9Yf.csv', parse_dates=['application_date'])"
      ],
      "execution_count": 0,
      "outputs": []
    },
    {
      "cell_type": "code",
      "metadata": {
        "id": "Nt_wNd88llYu",
        "colab_type": "code",
        "outputId": "141ab11d-33bf-49be-b11d-df12dcecaf75",
        "colab": {
          "base_uri": "https://localhost:8080/",
          "height": 34
        }
      },
      "source": [
        "print(f'Shape of training data is {train.shape}')"
      ],
      "execution_count": 3,
      "outputs": [
        {
          "output_type": "stream",
          "text": [
            "Shape of training data is (80402, 6)\n"
          ],
          "name": "stdout"
        }
      ]
    },
    {
      "cell_type": "code",
      "metadata": {
        "id": "cbFG-gwrlq_g",
        "colab_type": "code",
        "outputId": "610efa0c-8141-460b-8ef4-74a2269006d0",
        "colab": {
          "base_uri": "https://localhost:8080/",
          "height": 34
        }
      },
      "source": [
        "print(f'Shape of testing data is {test.shape}')"
      ],
      "execution_count": 4,
      "outputs": [
        {
          "output_type": "stream",
          "text": [
            "Shape of testing data is (180, 3)\n"
          ],
          "name": "stdout"
        }
      ]
    },
    {
      "cell_type": "code",
      "metadata": {
        "id": "PtM7naW6lssk",
        "colab_type": "code",
        "colab": {}
      },
      "source": [
        "Sub = test[['id','application_date','segment']]\n",
        "test.drop('id',axis=1,inplace=True)"
      ],
      "execution_count": 0,
      "outputs": []
    },
    {
      "cell_type": "code",
      "metadata": {
        "id": "yHLLwTeBluj9",
        "colab_type": "code",
        "outputId": "0a929376-ae86-4598-8ada-e31c3c16686e",
        "colab": {
          "base_uri": "https://localhost:8080/",
          "height": 204
        }
      },
      "source": [
        "train.info()"
      ],
      "execution_count": 6,
      "outputs": [
        {
          "output_type": "stream",
          "text": [
            "<class 'pandas.core.frame.DataFrame'>\n",
            "RangeIndex: 80402 entries, 0 to 80401\n",
            "Data columns (total 6 columns):\n",
            "application_date    80402 non-null datetime64[ns]\n",
            "segment             80402 non-null int64\n",
            "branch_id           66898 non-null float64\n",
            "state               80402 non-null object\n",
            "zone                66898 non-null object\n",
            "case_count          80402 non-null float64\n",
            "dtypes: datetime64[ns](1), float64(2), int64(1), object(2)\n",
            "memory usage: 3.7+ MB\n"
          ],
          "name": "stdout"
        }
      ]
    },
    {
      "cell_type": "code",
      "metadata": {
        "id": "AfcJPzirlwr1",
        "colab_type": "code",
        "outputId": "9f7ef4c1-a5ec-4e6c-ae21-f9a3ec360f9f",
        "colab": {
          "base_uri": "https://localhost:8080/",
          "height": 204
        }
      },
      "source": [
        "train.info(memory_usage='deep')"
      ],
      "execution_count": 7,
      "outputs": [
        {
          "output_type": "stream",
          "text": [
            "<class 'pandas.core.frame.DataFrame'>\n",
            "RangeIndex: 80402 entries, 0 to 80401\n",
            "Data columns (total 6 columns):\n",
            "application_date    80402 non-null datetime64[ns]\n",
            "segment             80402 non-null int64\n",
            "branch_id           66898 non-null float64\n",
            "state               80402 non-null object\n",
            "zone                66898 non-null object\n",
            "case_count          80402 non-null float64\n",
            "dtypes: datetime64[ns](1), float64(2), int64(1), object(2)\n",
            "memory usage: 11.9 MB\n"
          ],
          "name": "stdout"
        }
      ]
    },
    {
      "cell_type": "code",
      "metadata": {
        "id": "3JPXz3Nclyps",
        "colab_type": "code",
        "outputId": "698a68f5-efbb-4f00-9cf6-d2cfa8396ec3",
        "colab": {
          "base_uri": "https://localhost:8080/",
          "height": 34
        }
      },
      "source": [
        "train['application_date'].max(), train['application_date'].min()\n",
        "# Training data starts from 1st of April 2017 and ends at 23rd of July 2019. Roughly 2 years of data."
      ],
      "execution_count": 8,
      "outputs": [
        {
          "output_type": "execute_result",
          "data": {
            "text/plain": [
              "(Timestamp('2019-07-23 00:00:00'), Timestamp('2017-04-01 00:00:00'))"
            ]
          },
          "metadata": {
            "tags": []
          },
          "execution_count": 8
        }
      ]
    },
    {
      "cell_type": "code",
      "metadata": {
        "id": "fcejey3Ll150",
        "colab_type": "code",
        "outputId": "99a342ac-6af1-4677-e29f-6dd699ef5d1d",
        "colab": {
          "base_uri": "https://localhost:8080/",
          "height": 312
        }
      },
      "source": [
        "sns.countplot(train['segment'],order=train['segment'].value_counts().index)\n",
        "plt.title(\"Distribution of Segment Variable\")\n",
        "plt.xlabel(\"Segment\")\n",
        "plt.ylabel(\"Count\")\n",
        "# Lot more values of Segment1 than Segment2"
      ],
      "execution_count": 9,
      "outputs": [
        {
          "output_type": "execute_result",
          "data": {
            "text/plain": [
              "Text(0, 0.5, 'Count')"
            ]
          },
          "metadata": {
            "tags": []
          },
          "execution_count": 9
        },
        {
          "output_type": "display_data",
          "data": {
            "image/png": "[encoded data removed]",
            "text/plain": [
              "<Figure size 432x288 with 1 Axes>"
            ]
          },
          "metadata": {
            "tags": []
          }
        }
      ]
    },
    {
      "cell_type": "code",
      "metadata": {
        "id": "3do3WAh7l3mv",
        "colab_type": "code",
        "colab": {
          "base_uri": "https://localhost:8080/",
          "height": 204
        },
        "outputId": "a07a8080-c687-4ca2-a846-740cb1bb2186"
      },
      "source": [
        "train['branch_id'].value_counts(dropna=False).head(10)\n",
        "# All of the branch_id's have the same count i.e. 806 and this variable has 13504 missing values."
      ],
      "execution_count": 10,
      "outputs": [
        {
          "output_type": "execute_result",
          "data": {
            "text/plain": [
              "NaN      13504\n",
              "159.0      806\n",
              "17.0       806\n",
              "67.0       806\n",
              "269.0      806\n",
              "74.0       806\n",
              "268.0      806\n",
              "135.0      806\n",
              "62.0       806\n",
              "271.0      806\n",
              "Name: branch_id, dtype: int64"
            ]
          },
          "metadata": {
            "tags": []
          },
          "execution_count": 10
        }
      ]
    },
    {
      "cell_type": "code",
      "metadata": {
        "id": "gyqbyFhgl59Z",
        "colab_type": "code",
        "outputId": "4b82c8f1-489b-40cd-a51f-42514faf2a64",
        "colab": {
          "base_uri": "https://localhost:8080/",
          "height": 34
        }
      },
      "source": [
        "print (\"Number of Unique Branch_Id's in Training Data:{}\".format(train['branch_id'].nunique()))\n",
        "# 83 unique branch_id's in total in training dataset."
      ],
      "execution_count": 11,
      "outputs": [
        {
          "output_type": "stream",
          "text": [
            "Number of Unique Branch_Id's in Training Data:83\n"
          ],
          "name": "stdout"
        }
      ]
    },
    {
      "cell_type": "code",
      "metadata": {
        "id": "KhUOT4qYl7vY",
        "colab_type": "code",
        "outputId": "8ce4606d-de2e-411a-e805-378d858086f5",
        "colab": {
          "base_uri": "https://localhost:8080/",
          "height": 522
        }
      },
      "source": [
        "plt.figure(figsize=(10,6))\n",
        "sns.countplot(train['state'],order=train['state'].value_counts(dropna=False).index)\n",
        "plt.title(\"Distribution of State variable\")\n",
        "plt.xlabel(\"State\")\n",
        "plt.ylabel(\"Count\")\n",
        "plt.xticks(rotation=90)\n",
        "# Maharashtra has the largest count followed by West Bengal and Gujarat, Delhi has the least count."
      ],
      "execution_count": 12,
      "outputs": [
        {
          "output_type": "execute_result",
          "data": {
            "text/plain": [
              "(array([ 0,  1,  2,  3,  4,  5,  6,  7,  8,  9, 10, 11, 12, 13, 14, 15, 16,\n",
              "        17, 18, 19]), <a list of 20 Text xticklabel objects>)"
            ]
          },
          "metadata": {
            "tags": []
          },
          "execution_count": 12
        },
        {
          "output_type": "display_data",
          "data": {
            "image/png": "[encoded data removed]",
            "text/plain": [
              "<Figure size 720x432 with 1 Axes>"
            ]
          },
          "metadata": {
            "tags": []
          }
        }
      ]
    },
    {
      "cell_type": "code",
      "metadata": {
        "id": "WbRER8ozl-Fh",
        "colab_type": "code",
        "outputId": "1459ca3c-6ee9-4f14-8a01-1e5b4f7d2d29",
        "colab": {
          "base_uri": "https://localhost:8080/",
          "height": 688
        }
      },
      "source": [
        "train['zone'].value_counts(dropna=False).plot(kind='bar')\n",
        "plt.title(\"Distribution of zone variable\")\n",
        "plt.xlabel(\"zone\")\n",
        "plt.ylabel(\"Count\")\n",
        "# East has the highest count and Central has the least count, lot of missing values here.# List of states\n",
        "print(f'Total no. of states in the data are {train.state.unique().size}')\n",
        "list(train.state.unique())"
      ],
      "execution_count": 13,
      "outputs": [
        {
          "output_type": "stream",
          "text": [
            "Total no. of states in the data are 20\n"
          ],
          "name": "stdout"
        },
        {
          "output_type": "execute_result",
          "data": {
            "text/plain": [
              "['WEST BENGAL',\n",
              " 'DELHI',\n",
              " 'KARNATAKA',\n",
              " 'TAMIL NADU',\n",
              " 'UTTAR PRADESH',\n",
              " 'PUNJAB',\n",
              " 'TELANGANA',\n",
              " 'ANDHRA PRADESH',\n",
              " 'MAHARASHTRA',\n",
              " 'ORISSA',\n",
              " 'GUJARAT',\n",
              " 'ASSAM',\n",
              " 'JHARKHAND',\n",
              " 'UTTARAKHAND',\n",
              " 'KERALA',\n",
              " 'CHHATTISGARH',\n",
              " 'BIHAR',\n",
              " 'TRIPURA',\n",
              " 'MADHYA PRADESH',\n",
              " 'HARYANA']"
            ]
          },
          "metadata": {
            "tags": []
          },
          "execution_count": 13
        },
        {
          "output_type": "display_data",
          "data": {
            "image/png": "[encoded data removed]",
            "text/plain": [
              "<Figure size 432x288 with 1 Axes>"
            ]
          },
          "metadata": {
            "tags": []
          }
        }
      ]
    },
    {
      "cell_type": "code",
      "metadata": {
        "id": "VBk2ldBdmAcH",
        "colab_type": "code",
        "colab": {
          "base_uri": "https://localhost:8080/",
          "height": 170
        },
        "outputId": "c352cafc-2a00-473b-9883-eed104ac9d20"
      },
      "source": [
        "train['case_count'].describe()"
      ],
      "execution_count": 14,
      "outputs": [
        {
          "output_type": "execute_result",
          "data": {
            "text/plain": [
              "count    80402.000000\n",
              "mean       185.481841\n",
              "std        749.602925\n",
              "min          0.000000\n",
              "25%          0.000000\n",
              "50%         18.000000\n",
              "75%         60.000000\n",
              "max      13787.000000\n",
              "Name: case_count, dtype: float64"
            ]
          },
          "metadata": {
            "tags": []
          },
          "execution_count": 14
        }
      ]
    },
    {
      "cell_type": "code",
      "metadata": {
        "id": "ZK-HJdUBmDRY",
        "colab_type": "code",
        "outputId": "3eb437aa-a9f5-409e-ae04-d1cdff1ad81f",
        "colab": {
          "base_uri": "https://localhost:8080/",
          "height": 297
        }
      },
      "source": [
        "sns.distplot(train['case_count'],kde=False,bins=50)\n",
        "# As we can see a lot of 0 values."
      ],
      "execution_count": 15,
      "outputs": [
        {
          "output_type": "execute_result",
          "data": {
            "text/plain": [
              "<matplotlib.axes._subplots.AxesSubplot at 0x7f19b35f6da0>"
            ]
          },
          "metadata": {
            "tags": []
          },
          "execution_count": 15
        },
        {
          "output_type": "display_data",
          "data": {
            "image/png": "[encoded data removed]",
            "text/plain": [
              "<Figure size 432x288 with 1 Axes>"
            ]
          },
          "metadata": {
            "tags": []
          }
        }
      ]
    },
    {
      "cell_type": "code",
      "metadata": {
        "id": "z1gUa8dtmFiF",
        "colab_type": "code",
        "colab": {
          "base_uri": "https://localhost:8080/",
          "height": 204
        },
        "outputId": "8f908db5-98cb-4237-e338-6aa615d95d8d"
      },
      "source": [
        "train.head()"
      ],
      "execution_count": 16,
      "outputs": [
        {
          "output_type": "execute_result",
          "data": {
            "text/html": [
              "<div>\n",
              "<style scoped>\n",
              "    .dataframe tbody tr th:only-of-type {\n",
              "        vertical-align: middle;\n",
              "    }\n",
              "\n",
              "    .dataframe tbody tr th {\n",
              "        vertical-align: top;\n",
              "    }\n",
              "\n",
              "    .dataframe thead th {\n",
              "        text-align: right;\n",
              "    }\n",
              "</style>\n",
              "<table border=\"1\" class=\"dataframe\">\n",
              "  <thead>\n",
              "    <tr style=\"text-align: right;\">\n",
              "      <th></th>\n",
              "      <th>application_date</th>\n",
              "      <th>segment</th>\n",
              "      <th>branch_id</th>\n",
              "      <th>state</th>\n",
              "      <th>zone</th>\n",
              "      <th>case_count</th>\n",
              "    </tr>\n",
              "  </thead>\n",
              "  <tbody>\n",
              "    <tr>\n",
              "      <th>0</th>\n",
              "      <td>2017-04-01</td>\n",
              "      <td>1</td>\n",
              "      <td>1.0</td>\n",
              "      <td>WEST BENGAL</td>\n",
              "      <td>EAST</td>\n",
              "      <td>40.0</td>\n",
              "    </tr>\n",
              "    <tr>\n",
              "      <th>1</th>\n",
              "      <td>2017-04-03</td>\n",
              "      <td>1</td>\n",
              "      <td>1.0</td>\n",
              "      <td>WEST BENGAL</td>\n",
              "      <td>EAST</td>\n",
              "      <td>5.0</td>\n",
              "    </tr>\n",
              "    <tr>\n",
              "      <th>2</th>\n",
              "      <td>2017-04-04</td>\n",
              "      <td>1</td>\n",
              "      <td>1.0</td>\n",
              "      <td>WEST BENGAL</td>\n",
              "      <td>EAST</td>\n",
              "      <td>4.0</td>\n",
              "    </tr>\n",
              "    <tr>\n",
              "      <th>3</th>\n",
              "      <td>2017-04-05</td>\n",
              "      <td>1</td>\n",
              "      <td>1.0</td>\n",
              "      <td>WEST BENGAL</td>\n",
              "      <td>EAST</td>\n",
              "      <td>113.0</td>\n",
              "    </tr>\n",
              "    <tr>\n",
              "      <th>4</th>\n",
              "      <td>2017-04-07</td>\n",
              "      <td>1</td>\n",
              "      <td>1.0</td>\n",
              "      <td>WEST BENGAL</td>\n",
              "      <td>EAST</td>\n",
              "      <td>76.0</td>\n",
              "    </tr>\n",
              "  </tbody>\n",
              "</table>\n",
              "</div>"
            ],
            "text/plain": [
              "  application_date  segment  branch_id        state  zone  case_count\n",
              "0       2017-04-01        1        1.0  WEST BENGAL  EAST        40.0\n",
              "1       2017-04-03        1        1.0  WEST BENGAL  EAST         5.0\n",
              "2       2017-04-04        1        1.0  WEST BENGAL  EAST         4.0\n",
              "3       2017-04-05        1        1.0  WEST BENGAL  EAST       113.0\n",
              "4       2017-04-07        1        1.0  WEST BENGAL  EAST        76.0"
            ]
          },
          "metadata": {
            "tags": []
          },
          "execution_count": 16
        }
      ]
    },
    {
      "cell_type": "code",
      "metadata": {
        "id": "LEhJq98CmIis",
        "colab_type": "code",
        "outputId": "eafa3c7e-52ae-43e0-b703-c6a6466d4bad",
        "colab": {
          "base_uri": "https://localhost:8080/",
          "height": 142
        }
      },
      "source": [
        "train.groupby('segment')['case_count'].agg(['min','max','mean','median','std'])\n",
        "# We can see that the Maximum value of case_count belongs to segment 2. \n",
        "# all these values for segment1 are higher than segment2.train_df.head()"
      ],
      "execution_count": 17,
      "outputs": [
        {
          "output_type": "execute_result",
          "data": {
            "text/html": [
              "<div>\n",
              "<style scoped>\n",
              "    .dataframe tbody tr th:only-of-type {\n",
              "        vertical-align: middle;\n",
              "    }\n",
              "\n",
              "    .dataframe tbody tr th {\n",
              "        vertical-align: top;\n",
              "    }\n",
              "\n",
              "    .dataframe thead th {\n",
              "        text-align: right;\n",
              "    }\n",
              "</style>\n",
              "<table border=\"1\" class=\"dataframe\">\n",
              "  <thead>\n",
              "    <tr style=\"text-align: right;\">\n",
              "      <th></th>\n",
              "      <th>min</th>\n",
              "      <th>max</th>\n",
              "      <th>mean</th>\n",
              "      <th>median</th>\n",
              "      <th>std</th>\n",
              "    </tr>\n",
              "    <tr>\n",
              "      <th>segment</th>\n",
              "      <th></th>\n",
              "      <th></th>\n",
              "      <th></th>\n",
              "      <th></th>\n",
              "      <th></th>\n",
              "    </tr>\n",
              "  </thead>\n",
              "  <tbody>\n",
              "    <tr>\n",
              "      <th>1</th>\n",
              "      <td>0.0</td>\n",
              "      <td>1890.0</td>\n",
              "      <td>32.707106</td>\n",
              "      <td>14.0</td>\n",
              "      <td>61.591868</td>\n",
              "    </tr>\n",
              "    <tr>\n",
              "      <th>2</th>\n",
              "      <td>0.0</td>\n",
              "      <td>13787.0</td>\n",
              "      <td>942.318646</td>\n",
              "      <td>371.0</td>\n",
              "      <td>1624.339623</td>\n",
              "    </tr>\n",
              "  </tbody>\n",
              "</table>\n",
              "</div>"
            ],
            "text/plain": [
              "         min      max        mean  median          std\n",
              "segment                                               \n",
              "1        0.0   1890.0   32.707106    14.0    61.591868\n",
              "2        0.0  13787.0  942.318646   371.0  1624.339623"
            ]
          },
          "metadata": {
            "tags": []
          },
          "execution_count": 17
        }
      ]
    },
    {
      "cell_type": "code",
      "metadata": {
        "id": "ZyVN4QtKmKqW",
        "colab_type": "code",
        "outputId": "49cc7623-a828-4711-8036-dd995c29d0a7",
        "colab": {
          "base_uri": "https://localhost:8080/",
          "height": 700
        }
      },
      "source": [
        "train.groupby('state')['case_count'].agg(['count','min','max','mean','median','std','sum']).sort_values(by='count')\n",
        "# Although the count of Maharashtra is maximum, the sum of all case counts is maximum for Tamil Nadu."
      ],
      "execution_count": 18,
      "outputs": [
        {
          "output_type": "execute_result",
          "data": {
            "text/html": [
              "<div>\n",
              "<style scoped>\n",
              "    .dataframe tbody tr th:only-of-type {\n",
              "        vertical-align: middle;\n",
              "    }\n",
              "\n",
              "    .dataframe tbody tr th {\n",
              "        vertical-align: top;\n",
              "    }\n",
              "\n",
              "    .dataframe thead th {\n",
              "        text-align: right;\n",
              "    }\n",
              "</style>\n",
              "<table border=\"1\" class=\"dataframe\">\n",
              "  <thead>\n",
              "    <tr style=\"text-align: right;\">\n",
              "      <th></th>\n",
              "      <th>count</th>\n",
              "      <th>min</th>\n",
              "      <th>max</th>\n",
              "      <th>mean</th>\n",
              "      <th>median</th>\n",
              "      <th>std</th>\n",
              "      <th>sum</th>\n",
              "    </tr>\n",
              "    <tr>\n",
              "      <th>state</th>\n",
              "      <th></th>\n",
              "      <th></th>\n",
              "      <th></th>\n",
              "      <th></th>\n",
              "      <th></th>\n",
              "      <th></th>\n",
              "      <th></th>\n",
              "    </tr>\n",
              "  </thead>\n",
              "  <tbody>\n",
              "    <tr>\n",
              "      <th>DELHI</th>\n",
              "      <td>806</td>\n",
              "      <td>0.0</td>\n",
              "      <td>1488.0</td>\n",
              "      <td>168.486352</td>\n",
              "      <td>136.0</td>\n",
              "      <td>148.757794</td>\n",
              "      <td>135800.0</td>\n",
              "    </tr>\n",
              "    <tr>\n",
              "      <th>UTTARAKHAND</th>\n",
              "      <td>1612</td>\n",
              "      <td>0.0</td>\n",
              "      <td>383.0</td>\n",
              "      <td>24.782258</td>\n",
              "      <td>20.0</td>\n",
              "      <td>27.525605</td>\n",
              "      <td>39949.0</td>\n",
              "    </tr>\n",
              "    <tr>\n",
              "      <th>TELANGANA</th>\n",
              "      <td>1612</td>\n",
              "      <td>0.0</td>\n",
              "      <td>1038.0</td>\n",
              "      <td>56.153226</td>\n",
              "      <td>0.0</td>\n",
              "      <td>88.913544</td>\n",
              "      <td>90519.0</td>\n",
              "    </tr>\n",
              "    <tr>\n",
              "      <th>KERALA</th>\n",
              "      <td>1650</td>\n",
              "      <td>0.0</td>\n",
              "      <td>3369.0</td>\n",
              "      <td>496.008485</td>\n",
              "      <td>39.5</td>\n",
              "      <td>722.016808</td>\n",
              "      <td>818414.0</td>\n",
              "    </tr>\n",
              "    <tr>\n",
              "      <th>CHHATTISGARH</th>\n",
              "      <td>1650</td>\n",
              "      <td>0.0</td>\n",
              "      <td>1111.0</td>\n",
              "      <td>181.298788</td>\n",
              "      <td>22.5</td>\n",
              "      <td>241.012685</td>\n",
              "      <td>299143.0</td>\n",
              "    </tr>\n",
              "    <tr>\n",
              "      <th>MADHYA PRADESH</th>\n",
              "      <td>1650</td>\n",
              "      <td>0.0</td>\n",
              "      <td>2350.0</td>\n",
              "      <td>348.672121</td>\n",
              "      <td>87.0</td>\n",
              "      <td>455.859267</td>\n",
              "      <td>575309.0</td>\n",
              "    </tr>\n",
              "    <tr>\n",
              "      <th>TRIPURA</th>\n",
              "      <td>2456</td>\n",
              "      <td>0.0</td>\n",
              "      <td>997.0</td>\n",
              "      <td>82.313111</td>\n",
              "      <td>32.0</td>\n",
              "      <td>142.665541</td>\n",
              "      <td>202161.0</td>\n",
              "    </tr>\n",
              "    <tr>\n",
              "      <th>JHARKHAND</th>\n",
              "      <td>2456</td>\n",
              "      <td>0.0</td>\n",
              "      <td>833.0</td>\n",
              "      <td>69.036645</td>\n",
              "      <td>20.0</td>\n",
              "      <td>137.794878</td>\n",
              "      <td>169554.0</td>\n",
              "    </tr>\n",
              "    <tr>\n",
              "      <th>BIHAR</th>\n",
              "      <td>3262</td>\n",
              "      <td>0.0</td>\n",
              "      <td>7691.0</td>\n",
              "      <td>419.025445</td>\n",
              "      <td>25.0</td>\n",
              "      <td>1111.541528</td>\n",
              "      <td>1366861.0</td>\n",
              "    </tr>\n",
              "    <tr>\n",
              "      <th>KARNATAKA</th>\n",
              "      <td>3262</td>\n",
              "      <td>0.0</td>\n",
              "      <td>5202.0</td>\n",
              "      <td>519.345494</td>\n",
              "      <td>35.0</td>\n",
              "      <td>972.285346</td>\n",
              "      <td>1694105.0</td>\n",
              "    </tr>\n",
              "    <tr>\n",
              "      <th>ORISSA</th>\n",
              "      <td>3262</td>\n",
              "      <td>0.0</td>\n",
              "      <td>5831.0</td>\n",
              "      <td>408.938688</td>\n",
              "      <td>45.0</td>\n",
              "      <td>950.226384</td>\n",
              "      <td>1333958.0</td>\n",
              "    </tr>\n",
              "    <tr>\n",
              "      <th>ASSAM</th>\n",
              "      <td>4068</td>\n",
              "      <td>0.0</td>\n",
              "      <td>3208.0</td>\n",
              "      <td>187.618240</td>\n",
              "      <td>28.0</td>\n",
              "      <td>454.378089</td>\n",
              "      <td>763231.0</td>\n",
              "    </tr>\n",
              "    <tr>\n",
              "      <th>HARYANA</th>\n",
              "      <td>4068</td>\n",
              "      <td>0.0</td>\n",
              "      <td>118.0</td>\n",
              "      <td>2.961652</td>\n",
              "      <td>0.0</td>\n",
              "      <td>7.547701</td>\n",
              "      <td>12048.0</td>\n",
              "    </tr>\n",
              "    <tr>\n",
              "      <th>ANDHRA PRADESH</th>\n",
              "      <td>4836</td>\n",
              "      <td>0.0</td>\n",
              "      <td>179.0</td>\n",
              "      <td>3.517370</td>\n",
              "      <td>0.0</td>\n",
              "      <td>8.804760</td>\n",
              "      <td>17010.0</td>\n",
              "    </tr>\n",
              "    <tr>\n",
              "      <th>PUNJAB</th>\n",
              "      <td>4874</td>\n",
              "      <td>0.0</td>\n",
              "      <td>448.0</td>\n",
              "      <td>14.948502</td>\n",
              "      <td>8.0</td>\n",
              "      <td>25.272373</td>\n",
              "      <td>72859.0</td>\n",
              "    </tr>\n",
              "    <tr>\n",
              "      <th>TAMIL NADU</th>\n",
              "      <td>6486</td>\n",
              "      <td>0.0</td>\n",
              "      <td>13787.0</td>\n",
              "      <td>634.457601</td>\n",
              "      <td>11.0</td>\n",
              "      <td>2032.364822</td>\n",
              "      <td>4115092.0</td>\n",
              "    </tr>\n",
              "    <tr>\n",
              "      <th>UTTAR PRADESH</th>\n",
              "      <td>6486</td>\n",
              "      <td>0.0</td>\n",
              "      <td>1203.0</td>\n",
              "      <td>43.638760</td>\n",
              "      <td>0.0</td>\n",
              "      <td>131.554427</td>\n",
              "      <td>283041.0</td>\n",
              "    </tr>\n",
              "    <tr>\n",
              "      <th>GUJARAT</th>\n",
              "      <td>7292</td>\n",
              "      <td>0.0</td>\n",
              "      <td>1890.0</td>\n",
              "      <td>84.943774</td>\n",
              "      <td>25.0</td>\n",
              "      <td>151.453904</td>\n",
              "      <td>619410.0</td>\n",
              "    </tr>\n",
              "    <tr>\n",
              "      <th>WEST BENGAL</th>\n",
              "      <td>7292</td>\n",
              "      <td>0.0</td>\n",
              "      <td>4962.0</td>\n",
              "      <td>212.441306</td>\n",
              "      <td>40.0</td>\n",
              "      <td>580.958702</td>\n",
              "      <td>1549122.0</td>\n",
              "    </tr>\n",
              "    <tr>\n",
              "      <th>MAHARASHTRA</th>\n",
              "      <td>11322</td>\n",
              "      <td>0.0</td>\n",
              "      <td>1754.0</td>\n",
              "      <td>66.730701</td>\n",
              "      <td>27.0</td>\n",
              "      <td>124.410140</td>\n",
              "      <td>755525.0</td>\n",
              "    </tr>\n",
              "  </tbody>\n",
              "</table>\n",
              "</div>"
            ],
            "text/plain": [
              "                count  min      max        mean  median          std        sum\n",
              "state                                                                          \n",
              "DELHI             806  0.0   1488.0  168.486352   136.0   148.757794   135800.0\n",
              "UTTARAKHAND      1612  0.0    383.0   24.782258    20.0    27.525605    39949.0\n",
              "TELANGANA        1612  0.0   1038.0   56.153226     0.0    88.913544    90519.0\n",
              "KERALA           1650  0.0   3369.0  496.008485    39.5   722.016808   818414.0\n",
              "CHHATTISGARH     1650  0.0   1111.0  181.298788    22.5   241.012685   299143.0\n",
              "MADHYA PRADESH   1650  0.0   2350.0  348.672121    87.0   455.859267   575309.0\n",
              "TRIPURA          2456  0.0    997.0   82.313111    32.0   142.665541   202161.0\n",
              "JHARKHAND        2456  0.0    833.0   69.036645    20.0   137.794878   169554.0\n",
              "BIHAR            3262  0.0   7691.0  419.025445    25.0  1111.541528  1366861.0\n",
              "KARNATAKA        3262  0.0   5202.0  519.345494    35.0   972.285346  1694105.0\n",
              "ORISSA           3262  0.0   5831.0  408.938688    45.0   950.226384  1333958.0\n",
              "ASSAM            4068  0.0   3208.0  187.618240    28.0   454.378089   763231.0\n",
              "HARYANA          4068  0.0    118.0    2.961652     0.0     7.547701    12048.0\n",
              "ANDHRA PRADESH   4836  0.0    179.0    3.517370     0.0     8.804760    17010.0\n",
              "PUNJAB           4874  0.0    448.0   14.948502     8.0    25.272373    72859.0\n",
              "TAMIL NADU       6486  0.0  13787.0  634.457601    11.0  2032.364822  4115092.0\n",
              "UTTAR PRADESH    6486  0.0   1203.0   43.638760     0.0   131.554427   283041.0\n",
              "GUJARAT          7292  0.0   1890.0   84.943774    25.0   151.453904   619410.0\n",
              "WEST BENGAL      7292  0.0   4962.0  212.441306    40.0   580.958702  1549122.0\n",
              "MAHARASHTRA     11322  0.0   1754.0   66.730701    27.0   124.410140   755525.0"
            ]
          },
          "metadata": {
            "tags": []
          },
          "execution_count": 18
        }
      ]
    },
    {
      "cell_type": "code",
      "metadata": {
        "id": "5At6lPJfmNHb",
        "colab_type": "code",
        "outputId": "3fb20474-f2b5-482f-a35d-bb3fb0a92253",
        "colab": {
          "base_uri": "https://localhost:8080/",
          "height": 381
        }
      },
      "source": [
        "train.groupby('state')['case_count'].sum().sort_values().plot(kind='bar')"
      ],
      "execution_count": 19,
      "outputs": [
        {
          "output_type": "execute_result",
          "data": {
            "text/plain": [
              "<matplotlib.axes._subplots.AxesSubplot at 0x7f19b2f63a90>"
            ]
          },
          "metadata": {
            "tags": []
          },
          "execution_count": 19
        },
        {
          "output_type": "display_data",
          "data": {
            "image/png": "[encoded data removed]",
            "text/plain": [
              "<Figure size 432x288 with 1 Axes>"
            ]
          },
          "metadata": {
            "tags": []
          }
        }
      ]
    },
    {
      "cell_type": "code",
      "metadata": {
        "id": "cSLzVZhPmPaM",
        "colab_type": "code",
        "outputId": "1b36bfe5-cf7a-48fd-a75a-7c4ca06f077e",
        "colab": {
          "base_uri": "https://localhost:8080/",
          "height": 235
        }
      },
      "source": [
        "train.groupby('zone')['case_count'].agg(['count','min','max','mean','median','std','sum']).sort_values(by='count')\n",
        "# Even here, although the count of East zone is maximum, but the total case_counts received in West zone is highest."
      ],
      "execution_count": 20,
      "outputs": [
        {
          "output_type": "execute_result",
          "data": {
            "text/html": [
              "<div>\n",
              "<style scoped>\n",
              "    .dataframe tbody tr th:only-of-type {\n",
              "        vertical-align: middle;\n",
              "    }\n",
              "\n",
              "    .dataframe tbody tr th {\n",
              "        vertical-align: top;\n",
              "    }\n",
              "\n",
              "    .dataframe thead th {\n",
              "        text-align: right;\n",
              "    }\n",
              "</style>\n",
              "<table border=\"1\" class=\"dataframe\">\n",
              "  <thead>\n",
              "    <tr style=\"text-align: right;\">\n",
              "      <th></th>\n",
              "      <th>count</th>\n",
              "      <th>min</th>\n",
              "      <th>max</th>\n",
              "      <th>mean</th>\n",
              "      <th>median</th>\n",
              "      <th>std</th>\n",
              "      <th>sum</th>\n",
              "    </tr>\n",
              "    <tr>\n",
              "      <th>zone</th>\n",
              "      <th></th>\n",
              "      <th></th>\n",
              "      <th></th>\n",
              "      <th></th>\n",
              "      <th></th>\n",
              "      <th></th>\n",
              "      <th></th>\n",
              "    </tr>\n",
              "  </thead>\n",
              "  <tbody>\n",
              "    <tr>\n",
              "      <th>CENTRAL</th>\n",
              "      <td>1612</td>\n",
              "      <td>0.0</td>\n",
              "      <td>609.0</td>\n",
              "      <td>23.082506</td>\n",
              "      <td>11.0</td>\n",
              "      <td>36.657118</td>\n",
              "      <td>37209.0</td>\n",
              "    </tr>\n",
              "    <tr>\n",
              "      <th>NORTH</th>\n",
              "      <td>8060</td>\n",
              "      <td>0.0</td>\n",
              "      <td>1488.0</td>\n",
              "      <td>27.383002</td>\n",
              "      <td>6.0</td>\n",
              "      <td>69.671582</td>\n",
              "      <td>220707.0</td>\n",
              "    </tr>\n",
              "    <tr>\n",
              "      <th>WEST</th>\n",
              "      <td>16926</td>\n",
              "      <td>0.0</td>\n",
              "      <td>1890.0</td>\n",
              "      <td>46.985053</td>\n",
              "      <td>23.0</td>\n",
              "      <td>77.373460</td>\n",
              "      <td>795269.0</td>\n",
              "    </tr>\n",
              "    <tr>\n",
              "      <th>SOUTH</th>\n",
              "      <td>18538</td>\n",
              "      <td>0.0</td>\n",
              "      <td>1143.0</td>\n",
              "      <td>26.973784</td>\n",
              "      <td>8.0</td>\n",
              "      <td>54.089844</td>\n",
              "      <td>500040.0</td>\n",
              "    </tr>\n",
              "    <tr>\n",
              "      <th>EAST</th>\n",
              "      <td>21762</td>\n",
              "      <td>0.0</td>\n",
              "      <td>1657.0</td>\n",
              "      <td>29.170802</td>\n",
              "      <td>16.0</td>\n",
              "      <td>48.989433</td>\n",
              "      <td>634815.0</td>\n",
              "    </tr>\n",
              "  </tbody>\n",
              "</table>\n",
              "</div>"
            ],
            "text/plain": [
              "         count  min     max       mean  median        std       sum\n",
              "zone                                                               \n",
              "CENTRAL   1612  0.0   609.0  23.082506    11.0  36.657118   37209.0\n",
              "NORTH     8060  0.0  1488.0  27.383002     6.0  69.671582  220707.0\n",
              "WEST     16926  0.0  1890.0  46.985053    23.0  77.373460  795269.0\n",
              "SOUTH    18538  0.0  1143.0  26.973784     8.0  54.089844  500040.0\n",
              "EAST     21762  0.0  1657.0  29.170802    16.0  48.989433  634815.0"
            ]
          },
          "metadata": {
            "tags": []
          },
          "execution_count": 20
        }
      ]
    },
    {
      "cell_type": "code",
      "metadata": {
        "id": "IdlBktegmS2k",
        "colab_type": "code",
        "outputId": "4acf39e7-e63e-4843-aaa6-013d9d20d294",
        "colab": {
          "base_uri": "https://localhost:8080/",
          "height": 332
        }
      },
      "source": [
        "train.groupby('zone')['case_count'].sum().sort_values().plot(kind='bar')"
      ],
      "execution_count": 21,
      "outputs": [
        {
          "output_type": "execute_result",
          "data": {
            "text/plain": [
              "<matplotlib.axes._subplots.AxesSubplot at 0x7f19b2e66978>"
            ]
          },
          "metadata": {
            "tags": []
          },
          "execution_count": 21
        },
        {
          "output_type": "display_data",
          "data": {
            "image/png": "[encoded data removed]",
            "text/plain": [
              "<Figure size 432x288 with 1 Axes>"
            ]
          },
          "metadata": {
            "tags": []
          }
        }
      ]
    },
    {
      "cell_type": "code",
      "metadata": {
        "id": "1-mU8KxomV-P",
        "colab_type": "code",
        "colab": {}
      },
      "source": [
        "# Let's create some additional datetime based features\n",
        "train['year'] = train.application_date.dt.year\n",
        "train['month'] = train.application_date.dt.month\n",
        "train['dayofweek'] = train.application_date.dt.dayofweek\n",
        "train['day'] = train.application_date.dt.day\n",
        "train['quarter'] = train.application_date.dt.quarter\n",
        "train['is_month_start'] = train.application_date.dt.is_month_start\n",
        "train['is_month_end'] = train.application_date.dt.is_month_end\n",
        "train['is_quarter_start'] = train.application_date.dt.is_quarter_start\n",
        "train['is_quarter_end'] = train.application_date.dt.is_quarter_end"
      ],
      "execution_count": 0,
      "outputs": []
    },
    {
      "cell_type": "code",
      "metadata": {
        "id": "n3WR3sOlmYXr",
        "colab_type": "code",
        "colab": {
          "base_uri": "https://localhost:8080/",
          "height": 309
        },
        "outputId": "bbbded3b-1f35-4206-e7db-fdb6eaf5bcd7"
      },
      "source": [
        "train.head()"
      ],
      "execution_count": 23,
      "outputs": [
        {
          "output_type": "execute_result",
          "data": {
            "text/html": [
              "<div>\n",
              "<style scoped>\n",
              "    .dataframe tbody tr th:only-of-type {\n",
              "        vertical-align: middle;\n",
              "    }\n",
              "\n",
              "    .dataframe tbody tr th {\n",
              "        vertical-align: top;\n",
              "    }\n",
              "\n",
              "    .dataframe thead th {\n",
              "        text-align: right;\n",
              "    }\n",
              "</style>\n",
              "<table border=\"1\" class=\"dataframe\">\n",
              "  <thead>\n",
              "    <tr style=\"text-align: right;\">\n",
              "      <th></th>\n",
              "      <th>application_date</th>\n",
              "      <th>segment</th>\n",
              "      <th>branch_id</th>\n",
              "      <th>state</th>\n",
              "      <th>zone</th>\n",
              "      <th>case_count</th>\n",
              "      <th>year</th>\n",
              "      <th>month</th>\n",
              "      <th>dayofweek</th>\n",
              "      <th>day</th>\n",
              "      <th>quarter</th>\n",
              "      <th>is_month_start</th>\n",
              "      <th>is_month_end</th>\n",
              "      <th>is_quarter_start</th>\n",
              "      <th>is_quarter_end</th>\n",
              "    </tr>\n",
              "  </thead>\n",
              "  <tbody>\n",
              "    <tr>\n",
              "      <th>0</th>\n",
              "      <td>2017-04-01</td>\n",
              "      <td>1</td>\n",
              "      <td>1.0</td>\n",
              "      <td>WEST BENGAL</td>\n",
              "      <td>EAST</td>\n",
              "      <td>40.0</td>\n",
              "      <td>2017</td>\n",
              "      <td>4</td>\n",
              "      <td>5</td>\n",
              "      <td>1</td>\n",
              "      <td>2</td>\n",
              "      <td>True</td>\n",
              "      <td>False</td>\n",
              "      <td>True</td>\n",
              "      <td>False</td>\n",
              "    </tr>\n",
              "    <tr>\n",
              "      <th>1</th>\n",
              "      <td>2017-04-03</td>\n",
              "      <td>1</td>\n",
              "      <td>1.0</td>\n",
              "      <td>WEST BENGAL</td>\n",
              "      <td>EAST</td>\n",
              "      <td>5.0</td>\n",
              "      <td>2017</td>\n",
              "      <td>4</td>\n",
              "      <td>0</td>\n",
              "      <td>3</td>\n",
              "      <td>2</td>\n",
              "      <td>False</td>\n",
              "      <td>False</td>\n",
              "      <td>False</td>\n",
              "      <td>False</td>\n",
              "    </tr>\n",
              "    <tr>\n",
              "      <th>2</th>\n",
              "      <td>2017-04-04</td>\n",
              "      <td>1</td>\n",
              "      <td>1.0</td>\n",
              "      <td>WEST BENGAL</td>\n",
              "      <td>EAST</td>\n",
              "      <td>4.0</td>\n",
              "      <td>2017</td>\n",
              "      <td>4</td>\n",
              "      <td>1</td>\n",
              "      <td>4</td>\n",
              "      <td>2</td>\n",
              "      <td>False</td>\n",
              "      <td>False</td>\n",
              "      <td>False</td>\n",
              "      <td>False</td>\n",
              "    </tr>\n",
              "    <tr>\n",
              "      <th>3</th>\n",
              "      <td>2017-04-05</td>\n",
              "      <td>1</td>\n",
              "      <td>1.0</td>\n",
              "      <td>WEST BENGAL</td>\n",
              "      <td>EAST</td>\n",
              "      <td>113.0</td>\n",
              "      <td>2017</td>\n",
              "      <td>4</td>\n",
              "      <td>2</td>\n",
              "      <td>5</td>\n",
              "      <td>2</td>\n",
              "      <td>False</td>\n",
              "      <td>False</td>\n",
              "      <td>False</td>\n",
              "      <td>False</td>\n",
              "    </tr>\n",
              "    <tr>\n",
              "      <th>4</th>\n",
              "      <td>2017-04-07</td>\n",
              "      <td>1</td>\n",
              "      <td>1.0</td>\n",
              "      <td>WEST BENGAL</td>\n",
              "      <td>EAST</td>\n",
              "      <td>76.0</td>\n",
              "      <td>2017</td>\n",
              "      <td>4</td>\n",
              "      <td>4</td>\n",
              "      <td>7</td>\n",
              "      <td>2</td>\n",
              "      <td>False</td>\n",
              "      <td>False</td>\n",
              "      <td>False</td>\n",
              "      <td>False</td>\n",
              "    </tr>\n",
              "  </tbody>\n",
              "</table>\n",
              "</div>"
            ],
            "text/plain": [
              "  application_date  segment  ...  is_quarter_start is_quarter_end\n",
              "0       2017-04-01        1  ...              True          False\n",
              "1       2017-04-03        1  ...             False          False\n",
              "2       2017-04-04        1  ...             False          False\n",
              "3       2017-04-05        1  ...             False          False\n",
              "4       2017-04-07        1  ...             False          False\n",
              "\n",
              "[5 rows x 15 columns]"
            ]
          },
          "metadata": {
            "tags": []
          },
          "execution_count": 23
        }
      ]
    },
    {
      "cell_type": "code",
      "metadata": {
        "id": "uP1eML9pma_W",
        "colab_type": "code",
        "colab": {}
      },
      "source": [
        "test['year'] = test.application_date.dt.year\n",
        "test['month'] = test.application_date.dt.month\n",
        "test['dayofweek'] = test.application_date.dt.dayofweek\n",
        "test['day'] = test.application_date.dt.day\n",
        "test['quarter'] = test.application_date.dt.quarter\n",
        "test['is_month_start'] = test.application_date.dt.is_month_start\n",
        "test['is_month_end'] = test.application_date.dt.is_month_end\n",
        "test['is_quarter_start'] = test.application_date.dt.is_quarter_start\n",
        "test['is_quarter_end'] = test.application_date.dt.is_quarter_end"
      ],
      "execution_count": 0,
      "outputs": []
    },
    {
      "cell_type": "code",
      "metadata": {
        "id": "tH_y8qa5merz",
        "colab_type": "code",
        "outputId": "031225fb-2333-4ed8-9552-912da94f8681",
        "colab": {
          "base_uri": "https://localhost:8080/",
          "height": 224
        }
      },
      "source": [
        "test.head()"
      ],
      "execution_count": 25,
      "outputs": [
        {
          "output_type": "execute_result",
          "data": {
            "text/html": [
              "<div>\n",
              "<style scoped>\n",
              "    .dataframe tbody tr th:only-of-type {\n",
              "        vertical-align: middle;\n",
              "    }\n",
              "\n",
              "    .dataframe tbody tr th {\n",
              "        vertical-align: top;\n",
              "    }\n",
              "\n",
              "    .dataframe thead th {\n",
              "        text-align: right;\n",
              "    }\n",
              "</style>\n",
              "<table border=\"1\" class=\"dataframe\">\n",
              "  <thead>\n",
              "    <tr style=\"text-align: right;\">\n",
              "      <th></th>\n",
              "      <th>application_date</th>\n",
              "      <th>segment</th>\n",
              "      <th>year</th>\n",
              "      <th>month</th>\n",
              "      <th>dayofweek</th>\n",
              "      <th>day</th>\n",
              "      <th>quarter</th>\n",
              "      <th>is_month_start</th>\n",
              "      <th>is_month_end</th>\n",
              "      <th>is_quarter_start</th>\n",
              "      <th>is_quarter_end</th>\n",
              "    </tr>\n",
              "  </thead>\n",
              "  <tbody>\n",
              "    <tr>\n",
              "      <th>0</th>\n",
              "      <td>2019-07-06</td>\n",
              "      <td>1</td>\n",
              "      <td>2019</td>\n",
              "      <td>7</td>\n",
              "      <td>5</td>\n",
              "      <td>6</td>\n",
              "      <td>3</td>\n",
              "      <td>False</td>\n",
              "      <td>False</td>\n",
              "      <td>False</td>\n",
              "      <td>False</td>\n",
              "    </tr>\n",
              "    <tr>\n",
              "      <th>1</th>\n",
              "      <td>2019-07-07</td>\n",
              "      <td>1</td>\n",
              "      <td>2019</td>\n",
              "      <td>7</td>\n",
              "      <td>6</td>\n",
              "      <td>7</td>\n",
              "      <td>3</td>\n",
              "      <td>False</td>\n",
              "      <td>False</td>\n",
              "      <td>False</td>\n",
              "      <td>False</td>\n",
              "    </tr>\n",
              "    <tr>\n",
              "      <th>2</th>\n",
              "      <td>2019-07-08</td>\n",
              "      <td>1</td>\n",
              "      <td>2019</td>\n",
              "      <td>7</td>\n",
              "      <td>0</td>\n",
              "      <td>8</td>\n",
              "      <td>3</td>\n",
              "      <td>False</td>\n",
              "      <td>False</td>\n",
              "      <td>False</td>\n",
              "      <td>False</td>\n",
              "    </tr>\n",
              "    <tr>\n",
              "      <th>3</th>\n",
              "      <td>2019-07-09</td>\n",
              "      <td>1</td>\n",
              "      <td>2019</td>\n",
              "      <td>7</td>\n",
              "      <td>1</td>\n",
              "      <td>9</td>\n",
              "      <td>3</td>\n",
              "      <td>False</td>\n",
              "      <td>False</td>\n",
              "      <td>False</td>\n",
              "      <td>False</td>\n",
              "    </tr>\n",
              "    <tr>\n",
              "      <th>4</th>\n",
              "      <td>2019-07-10</td>\n",
              "      <td>1</td>\n",
              "      <td>2019</td>\n",
              "      <td>7</td>\n",
              "      <td>2</td>\n",
              "      <td>10</td>\n",
              "      <td>3</td>\n",
              "      <td>False</td>\n",
              "      <td>False</td>\n",
              "      <td>False</td>\n",
              "      <td>False</td>\n",
              "    </tr>\n",
              "  </tbody>\n",
              "</table>\n",
              "</div>"
            ],
            "text/plain": [
              "  application_date  segment  ...  is_quarter_start  is_quarter_end\n",
              "0       2019-07-06        1  ...             False           False\n",
              "1       2019-07-07        1  ...             False           False\n",
              "2       2019-07-08        1  ...             False           False\n",
              "3       2019-07-09        1  ...             False           False\n",
              "4       2019-07-10        1  ...             False           False\n",
              "\n",
              "[5 rows x 11 columns]"
            ]
          },
          "metadata": {
            "tags": []
          },
          "execution_count": 25
        }
      ]
    },
    {
      "cell_type": "code",
      "metadata": {
        "id": "6snojDmAmoPk",
        "colab_type": "code",
        "outputId": "d7cc4071-6b1b-476a-a39f-bbb9030b2369",
        "colab": {
          "base_uri": "https://localhost:8080/",
          "height": 433
        }
      },
      "source": [
        "train.set_index('application_date').resample('D')['case_count'].sum().plot(kind='line',figsize=(10,6),label='Total_case_Count_by_Day')\n",
        "plt.title(\"Total Case Count by Day\")\n",
        "plt.xlabel('Day')\n",
        "plt.ylabel(\"Sum of Case Counts\")\n",
        "plt.legend(loc='best')\n",
        "# We can see some kind of trend here, the sum total of case counts increases for sometime and then stays almost same. \n",
        "# We can also see a spike that is apart from the trend around July-Oct of 2018."
      ],
      "execution_count": 26,
      "outputs": [
        {
          "output_type": "execute_result",
          "data": {
            "text/plain": [
              "<matplotlib.legend.Legend at 0x7f19b2dcecc0>"
            ]
          },
          "metadata": {
            "tags": []
          },
          "execution_count": 26
        },
        {
          "output_type": "display_data",
          "data": {
            "image/png": "[encoded data removed]",
            "text/plain": [
              "<Figure size 720x432 with 1 Axes>"
            ]
          },
          "metadata": {
            "tags": []
          }
        }
      ]
    },
    {
      "cell_type": "code",
      "metadata": {
        "id": "Y_jvuxeMm0g-",
        "colab_type": "code",
        "outputId": "d29d72de-0d57-4448-c105-409ad398c85a",
        "colab": {
          "base_uri": "https://localhost:8080/",
          "height": 433
        }
      },
      "source": [
        "train.set_index('application_date').resample('W')['case_count'].sum().plot(kind='line',figsize=(10,6),label='Case_Counts_by_Week')\n",
        "plt.title(\"Case Count by Week\")\n",
        "plt.xlabel('Week')\n",
        "plt.ylabel(\"Case Counts\")\n",
        "plt.legend(loc='best')\n",
        "# We can see increasing and decreasing trends here"
      ],
      "execution_count": 27,
      "outputs": [
        {
          "output_type": "execute_result",
          "data": {
            "text/plain": [
              "<matplotlib.legend.Legend at 0x7f19b2ea0908>"
            ]
          },
          "metadata": {
            "tags": []
          },
          "execution_count": 27
        },
        {
          "output_type": "display_data",
          "data": {
            "image/png": "[encoded data removed]",
            "text/plain": [
              "<Figure size 720x432 with 1 Axes>"
            ]
          },
          "metadata": {
            "tags": []
          }
        }
      ]
    },
    {
      "cell_type": "code",
      "metadata": {
        "id": "yJZWEvoWnKIU",
        "colab_type": "code",
        "outputId": "22071891-943c-44e4-a4e4-898e83279416",
        "colab": {
          "base_uri": "https://localhost:8080/",
          "height": 433
        }
      },
      "source": [
        "train.set_index('application_date').resample('M')['case_count'].sum().plot(kind='line',figsize=(10,6),label='Case_Counts_by_Month')\n",
        "plt.title(\"Case Count by Month\")\n",
        "plt.xlabel('Month')\n",
        "plt.ylabel(\"Case Counts\")\n",
        "plt.legend(loc='best')\n",
        "# We can see a gradual increase for sometime and then series of increasing and decreasing trends followed by a dip at the endtest_df.head()"
      ],
      "execution_count": 28,
      "outputs": [
        {
          "output_type": "execute_result",
          "data": {
            "text/plain": [
              "<matplotlib.legend.Legend at 0x7f19b0202dd8>"
            ]
          },
          "metadata": {
            "tags": []
          },
          "execution_count": 28
        },
        {
          "output_type": "display_data",
          "data": {
            "image/png": "[encoded data removed]",
            "text/plain": [
              "<Figure size 720x432 with 1 Axes>"
            ]
          },
          "metadata": {
            "tags": []
          }
        }
      ]
    },
    {
      "cell_type": "code",
      "metadata": {
        "id": "1y85d8dnnMjL",
        "colab_type": "code",
        "colab": {
          "base_uri": "https://localhost:8080/",
          "height": 408
        },
        "outputId": "6af6cce5-9724-4f52-d8ee-d206f8b98e61"
      },
      "source": [
        "train.set_index('application_date')['case_count'].plot(kind='line',figsize=(10,6),label='Case_Counts_by_Day')\n",
        "plt.title(\"Case Count by Day\")\n",
        "plt.xlabel('Day')\n",
        "plt.ylabel(\"Case Counts\")\n",
        "plt.legend(loc='best')\n",
        "# We can see increasing and decreasing trends here"
      ],
      "execution_count": 29,
      "outputs": [
        {
          "output_type": "execute_result",
          "data": {
            "text/plain": [
              "<matplotlib.legend.Legend at 0x7f19b01d0c50>"
            ]
          },
          "metadata": {
            "tags": []
          },
          "execution_count": 29
        },
        {
          "output_type": "display_data",
          "data": {
            "image/png": "[encoded data removed]",
            "text/plain": [
              "<Figure size 720x432 with 1 Axes>"
            ]
          },
          "metadata": {
            "tags": []
          }
        }
      ]
    },
    {
      "cell_type": "code",
      "metadata": {
        "id": "4czark5pnOxc",
        "colab_type": "code",
        "colab": {
          "base_uri": "https://localhost:8080/",
          "height": 312
        },
        "outputId": "f74980d7-7659-4c0b-c926-138efe09555c"
      },
      "source": [
        "train.groupby('year')['case_count'].sum().sort_index().plot(kind='bar')\n",
        "# we can see a spike in the total case counts from 2017 to 2018"
      ],
      "execution_count": 30,
      "outputs": [
        {
          "output_type": "execute_result",
          "data": {
            "text/plain": [
              "<matplotlib.axes._subplots.AxesSubplot at 0x7f19b305a3c8>"
            ]
          },
          "metadata": {
            "tags": []
          },
          "execution_count": 30
        },
        {
          "output_type": "display_data",
          "data": {
            "image/png": "[encoded data removed]",
            "text/plain": [
              "<Figure size 432x288 with 1 Axes>"
            ]
          },
          "metadata": {
            "tags": []
          }
        }
      ]
    },
    {
      "cell_type": "code",
      "metadata": {
        "id": "RRGTnNTEnRWI",
        "colab_type": "code",
        "colab": {
          "base_uri": "https://localhost:8080/",
          "height": 299
        },
        "outputId": "c73eae78-766d-4731-fddf-0b29febd09aa"
      },
      "source": [
        "train.groupby('month')['case_count'].sum().sort_index().plot(kind='bar')\n",
        "# case_count sum is maximum during the month of June followed by July,March and May which are close to each other. It is minimum\n",
        "# in the month of August."
      ],
      "execution_count": 31,
      "outputs": [
        {
          "output_type": "execute_result",
          "data": {
            "text/plain": [
              "<matplotlib.axes._subplots.AxesSubplot at 0x7f19afd7f0f0>"
            ]
          },
          "metadata": {
            "tags": []
          },
          "execution_count": 31
        },
        {
          "output_type": "display_data",
          "data": {
            "image/png": "[encoded data removed]",
            "text/plain": [
              "<Figure size 432x288 with 1 Axes>"
            ]
          },
          "metadata": {
            "tags": []
          }
        }
      ]
    },
    {
      "cell_type": "code",
      "metadata": {
        "id": "S8PgJ8-7nTu1",
        "colab_type": "code",
        "outputId": "9a889498-1752-4f02-a90c-58d0fd922134",
        "colab": {
          "base_uri": "https://localhost:8080/",
          "height": 297
        }
      },
      "source": [
        "train.groupby('dayofweek')['case_count'].agg(['count','min','max','sum','mean']).sort_values(by='count')\n",
        "# Thursday has the highest occurence and Sunday has the least. \n",
        "# Wednesday has the highest sum total of case counts."
      ],
      "execution_count": 32,
      "outputs": [
        {
          "output_type": "execute_result",
          "data": {
            "text/html": [
              "<div>\n",
              "<style scoped>\n",
              "    .dataframe tbody tr th:only-of-type {\n",
              "        vertical-align: middle;\n",
              "    }\n",
              "\n",
              "    .dataframe tbody tr th {\n",
              "        vertical-align: top;\n",
              "    }\n",
              "\n",
              "    .dataframe thead th {\n",
              "        text-align: right;\n",
              "    }\n",
              "</style>\n",
              "<table border=\"1\" class=\"dataframe\">\n",
              "  <thead>\n",
              "    <tr style=\"text-align: right;\">\n",
              "      <th></th>\n",
              "      <th>count</th>\n",
              "      <th>min</th>\n",
              "      <th>max</th>\n",
              "      <th>sum</th>\n",
              "      <th>mean</th>\n",
              "    </tr>\n",
              "    <tr>\n",
              "      <th>dayofweek</th>\n",
              "      <th></th>\n",
              "      <th></th>\n",
              "      <th></th>\n",
              "      <th></th>\n",
              "      <th></th>\n",
              "    </tr>\n",
              "  </thead>\n",
              "  <tbody>\n",
              "    <tr>\n",
              "      <th>6</th>\n",
              "      <td>11149</td>\n",
              "      <td>0.0</td>\n",
              "      <td>10250.0</td>\n",
              "      <td>1436647.0</td>\n",
              "      <td>128.858821</td>\n",
              "    </tr>\n",
              "    <tr>\n",
              "      <th>5</th>\n",
              "      <td>11398</td>\n",
              "      <td>0.0</td>\n",
              "      <td>13787.0</td>\n",
              "      <td>2135403.0</td>\n",
              "      <td>187.348921</td>\n",
              "    </tr>\n",
              "    <tr>\n",
              "      <th>2</th>\n",
              "      <td>11548</td>\n",
              "      <td>0.0</td>\n",
              "      <td>11160.0</td>\n",
              "      <td>2314316.0</td>\n",
              "      <td>200.408382</td>\n",
              "    </tr>\n",
              "    <tr>\n",
              "      <th>4</th>\n",
              "      <td>11548</td>\n",
              "      <td>0.0</td>\n",
              "      <td>13118.0</td>\n",
              "      <td>2262137.0</td>\n",
              "      <td>195.889938</td>\n",
              "    </tr>\n",
              "    <tr>\n",
              "      <th>0</th>\n",
              "      <td>11564</td>\n",
              "      <td>0.0</td>\n",
              "      <td>10805.0</td>\n",
              "      <td>2173422.0</td>\n",
              "      <td>187.947250</td>\n",
              "    </tr>\n",
              "    <tr>\n",
              "      <th>1</th>\n",
              "      <td>11564</td>\n",
              "      <td>0.0</td>\n",
              "      <td>11506.0</td>\n",
              "      <td>2280995.0</td>\n",
              "      <td>197.249654</td>\n",
              "    </tr>\n",
              "    <tr>\n",
              "      <th>3</th>\n",
              "      <td>11631</td>\n",
              "      <td>0.0</td>\n",
              "      <td>12908.0</td>\n",
              "      <td>2310191.0</td>\n",
              "      <td>198.623592</td>\n",
              "    </tr>\n",
              "  </tbody>\n",
              "</table>\n",
              "</div>"
            ],
            "text/plain": [
              "           count  min      max        sum        mean\n",
              "dayofweek                                            \n",
              "6          11149  0.0  10250.0  1436647.0  128.858821\n",
              "5          11398  0.0  13787.0  2135403.0  187.348921\n",
              "2          11548  0.0  11160.0  2314316.0  200.408382\n",
              "4          11548  0.0  13118.0  2262137.0  195.889938\n",
              "0          11564  0.0  10805.0  2173422.0  187.947250\n",
              "1          11564  0.0  11506.0  2280995.0  197.249654\n",
              "3          11631  0.0  12908.0  2310191.0  198.623592"
            ]
          },
          "metadata": {
            "tags": []
          },
          "execution_count": 32
        }
      ]
    },
    {
      "cell_type": "code",
      "metadata": {
        "id": "cjvo5zpunWCP",
        "colab_type": "code",
        "colab": {
          "base_uri": "https://localhost:8080/",
          "height": 390
        },
        "outputId": "165bd4fc-b304-4b7a-f544-3f270491f908"
      },
      "source": [
        "train.groupby(['year','quarter'])['case_count'].agg(['count','min','max','sum','mean'])\n",
        "# Count is maximum during the 4th Quarter of 2017 and 3rd and 4th quarter of 2018.\n",
        "# Sum is maximum during 3rd quarter of 2017."
      ],
      "execution_count": 33,
      "outputs": [
        {
          "output_type": "execute_result",
          "data": {
            "text/html": [
              "<div>\n",
              "<style scoped>\n",
              "    .dataframe tbody tr th:only-of-type {\n",
              "        vertical-align: middle;\n",
              "    }\n",
              "\n",
              "    .dataframe tbody tr th {\n",
              "        vertical-align: top;\n",
              "    }\n",
              "\n",
              "    .dataframe thead th {\n",
              "        text-align: right;\n",
              "    }\n",
              "</style>\n",
              "<table border=\"1\" class=\"dataframe\">\n",
              "  <thead>\n",
              "    <tr style=\"text-align: right;\">\n",
              "      <th></th>\n",
              "      <th></th>\n",
              "      <th>count</th>\n",
              "      <th>min</th>\n",
              "      <th>max</th>\n",
              "      <th>sum</th>\n",
              "      <th>mean</th>\n",
              "    </tr>\n",
              "    <tr>\n",
              "      <th>year</th>\n",
              "      <th>quarter</th>\n",
              "      <th></th>\n",
              "      <th></th>\n",
              "      <th></th>\n",
              "      <th></th>\n",
              "      <th></th>\n",
              "    </tr>\n",
              "  </thead>\n",
              "  <tbody>\n",
              "    <tr>\n",
              "      <th rowspan=\"3\" valign=\"top\">2017</th>\n",
              "      <th>2</th>\n",
              "      <td>8428</td>\n",
              "      <td>0.0</td>\n",
              "      <td>5274.0</td>\n",
              "      <td>706232.0</td>\n",
              "      <td>83.795918</td>\n",
              "    </tr>\n",
              "    <tr>\n",
              "      <th>3</th>\n",
              "      <td>8361</td>\n",
              "      <td>0.0</td>\n",
              "      <td>8884.0</td>\n",
              "      <td>1197941.0</td>\n",
              "      <td>143.277240</td>\n",
              "    </tr>\n",
              "    <tr>\n",
              "      <th>4</th>\n",
              "      <td>9108</td>\n",
              "      <td>0.0</td>\n",
              "      <td>9963.0</td>\n",
              "      <td>1449814.0</td>\n",
              "      <td>159.180281</td>\n",
              "    </tr>\n",
              "    <tr>\n",
              "      <th rowspan=\"4\" valign=\"top\">2018</th>\n",
              "      <th>1</th>\n",
              "      <td>8578</td>\n",
              "      <td>0.0</td>\n",
              "      <td>11288.0</td>\n",
              "      <td>1728408.0</td>\n",
              "      <td>201.493122</td>\n",
              "    </tr>\n",
              "    <tr>\n",
              "      <th>2</th>\n",
              "      <td>9009</td>\n",
              "      <td>0.0</td>\n",
              "      <td>11241.0</td>\n",
              "      <td>1812629.0</td>\n",
              "      <td>201.202020</td>\n",
              "    </tr>\n",
              "    <tr>\n",
              "      <th>3</th>\n",
              "      <td>9108</td>\n",
              "      <td>0.0</td>\n",
              "      <td>12908.0</td>\n",
              "      <td>2027253.0</td>\n",
              "      <td>222.579381</td>\n",
              "    </tr>\n",
              "    <tr>\n",
              "      <th>4</th>\n",
              "      <td>9108</td>\n",
              "      <td>0.0</td>\n",
              "      <td>11536.0</td>\n",
              "      <td>1919816.0</td>\n",
              "      <td>210.783487</td>\n",
              "    </tr>\n",
              "    <tr>\n",
              "      <th rowspan=\"3\" valign=\"top\">2019</th>\n",
              "      <th>1</th>\n",
              "      <td>8910</td>\n",
              "      <td>0.0</td>\n",
              "      <td>13787.0</td>\n",
              "      <td>1944961.0</td>\n",
              "      <td>218.289675</td>\n",
              "    </tr>\n",
              "    <tr>\n",
              "      <th>2</th>\n",
              "      <td>9009</td>\n",
              "      <td>0.0</td>\n",
              "      <td>10629.0</td>\n",
              "      <td>1734401.0</td>\n",
              "      <td>192.518704</td>\n",
              "    </tr>\n",
              "    <tr>\n",
              "      <th>3</th>\n",
              "      <td>783</td>\n",
              "      <td>0.0</td>\n",
              "      <td>10099.0</td>\n",
              "      <td>391656.0</td>\n",
              "      <td>500.199234</td>\n",
              "    </tr>\n",
              "  </tbody>\n",
              "</table>\n",
              "</div>"
            ],
            "text/plain": [
              "              count  min      max        sum        mean\n",
              "year quarter                                            \n",
              "2017 2         8428  0.0   5274.0   706232.0   83.795918\n",
              "     3         8361  0.0   8884.0  1197941.0  143.277240\n",
              "     4         9108  0.0   9963.0  1449814.0  159.180281\n",
              "2018 1         8578  0.0  11288.0  1728408.0  201.493122\n",
              "     2         9009  0.0  11241.0  1812629.0  201.202020\n",
              "     3         9108  0.0  12908.0  2027253.0  222.579381\n",
              "     4         9108  0.0  11536.0  1919816.0  210.783487\n",
              "2019 1         8910  0.0  13787.0  1944961.0  218.289675\n",
              "     2         9009  0.0  10629.0  1734401.0  192.518704\n",
              "     3          783  0.0  10099.0   391656.0  500.199234"
            ]
          },
          "metadata": {
            "tags": []
          },
          "execution_count": 33
        }
      ]
    },
    {
      "cell_type": "code",
      "metadata": {
        "id": "TTlJRUaGna4_",
        "colab_type": "code",
        "colab": {}
      },
      "source": [
        "def mean_absolute_percentage_error(y_true, y_pred): \n",
        "    y_true, y_pred = np.array(y_true), np.array(y_pred)\n",
        "    return np.mean(np.abs((y_pred - y_true) / y_pred)) * 100\n",
        "\n",
        "my_scorer = make_scorer(mean_absolute_percentage_error,greater_is_better=True)\n",
        "\n",
        "def final_mape (mape1,mape2):\n",
        "    return 0.5*mape1+0.5*mape2"
      ],
      "execution_count": 0,
      "outputs": []
    },
    {
      "cell_type": "code",
      "metadata": {
        "id": "C1p0gQyWnevp",
        "colab_type": "code",
        "outputId": "7e0f3095-af35-439e-ca8a-4650f696acf2",
        "colab": {
          "base_uri": "https://localhost:8080/",
          "height": 34
        }
      },
      "source": [
        "df_train = train.groupby(['application_date','segment'],as_index=False)['case_count'].sum()\n",
        "df_train.shape"
      ],
      "execution_count": 35,
      "outputs": [
        {
          "output_type": "execute_result",
          "data": {
            "text/plain": [
              "(1650, 3)"
            ]
          },
          "metadata": {
            "tags": []
          },
          "execution_count": 35
        }
      ]
    },
    {
      "cell_type": "code",
      "metadata": {
        "id": "NplZPikgnjdg",
        "colab_type": "code",
        "colab": {}
      },
      "source": [
        "holidays = ['2017-04-05','2017-04-09','2017-04-14','2017-05-01',\n",
        "       '2017-05-10', '2017-06-25', '2017-06-26', '2017-08-07',\n",
        "       '2017-08-14', '2017-08-15', '2017-08-25', '2017-09-02',\n",
        "       '2017-09-04', '2017-09-30', '2017-10-01', '2017-10-02',\n",
        "       '2017-10-19', '2017-12-01', '2017-12-25', '2018-01-01', \n",
        "       '2018-01-14', '2018-01-22', '2018-01-26',\n",
        "       '2018-01-31', '2018-02-10', '2018-02-14', '2018-02-19',\n",
        "       '2018-03-01', '2018-03-02', '2018-03-18', '2018-03-25',\n",
        "       '2018-03-29', '2018-03-30', '2018-04-01', '2018-04-14',\n",
        "       '2018-04-15', '2018-04-30', '2018-05-09', '2018-06-15',\n",
        "       '2018-06-16', '2018-07-14', '2018-08-15', '2018-08-17',\n",
        "       '2018-08-22', '2018-08-25', '2018-08-26', '2018-09-03',\n",
        "       '2018-09-13', '2018-09-21', '2018-10-02', '2018-10-16',\n",
        "       '2018-10-17', '2018-10-18', '2018-10-19', '2018-10-24',\n",
        "       '2018-10-27', '2018-11-06', '2018-11-07', '2018-11-08',\n",
        "       '2018-11-09', '2018-11-13', '2018-11-21', '2018-11-23',\n",
        "       '2018-11-24', '2018-12-24', '2018-12-25', '2019-01-01',\n",
        "       '2019-01-13', '2019-01-14', '2019-01-15', '2019-01-26',\n",
        "       '2019-02-10', '2019-02-19', '2019-03-01', '2019-03-04',\n",
        "       '2019-03-20', '2019-03-21', '2019-04-06', '2019-04-13',\n",
        "       '2019-04-14', '2019-04-15', '2019-04-17', '2019-04-19',\n",
        "       '2019-04-21', '2019-05-09', '2019-05-18', '2019-05-31',\n",
        "       '2019-06-05', '2019-07-04', '2019-08-12', '2019-08-15',\n",
        "       '2019-08-17', '2019-08-24', '2019-09-02', '2019-09-10',\n",
        "       '2019-09-11', '2019-10-02', '2019-10-05', '2019-10-06',\n",
        "       '2019-10-07', '2019-10-08', '2019-10-13', '2019-10-17',\n",
        "       '2019-10-27', '2019-10-28', '2019-10-29', '2019-11-02',\n",
        "       '2019-11-10', '2019-11-12', '2019-11-24', '2019-12-24',\n",
        "       '2019-12-25']"
      ],
      "execution_count": 0,
      "outputs": []
    },
    {
      "cell_type": "code",
      "metadata": {
        "id": "o7E-MON4gCUH",
        "colab_type": "code",
        "colab": {}
      },
      "source": [
        "# defining a function to create a weekend indicator\n",
        "def weekend_indicator(x):\n",
        "    if (x>4 and x<=6):\n",
        "        return True\n",
        "    else:\n",
        "        return False"
      ],
      "execution_count": 0,
      "outputs": []
    },
    {
      "cell_type": "code",
      "metadata": {
        "id": "gE7efZzlgE_H",
        "colab_type": "code",
        "colab": {}
      },
      "source": [
        "df_train['year'] = df_train.application_date.dt.year\n",
        "df_train['month'] = df_train.application_date.dt.month\n",
        "df_train['dayofweek'] = df_train.application_date.dt.dayofweek\n",
        "df_train['day'] = df_train.application_date.dt.day\n",
        "df_train['quarter'] = df_train.application_date.dt.quarter\n",
        "df_train['is_month_start'] = df_train.application_date.dt.is_month_start\n",
        "df_train['is_month_end'] = df_train.application_date.dt.is_month_end\n",
        "df_train['is_quarter_start'] = df_train.application_date.dt.is_quarter_start\n",
        "df_train['is_quarter_end'] = df_train.application_date.dt.is_quarter_end\n",
        "df_train['weekend'] = df_train.dayofweek.apply(weekend_indicator)\n",
        "\n",
        "test['weekend'] = test.dayofweek.apply(weekend_indicator)"
      ],
      "execution_count": 0,
      "outputs": []
    },
    {
      "cell_type": "code",
      "metadata": {
        "id": "g46Cv5JggIQk",
        "colab_type": "code",
        "colab": {}
      },
      "source": [
        "X = df_train[[col for col in df_train.columns if col not in ['application_date','case_count']]]\n",
        "y = df_train['case_count']"
      ],
      "execution_count": 0,
      "outputs": []
    },
    {
      "cell_type": "code",
      "metadata": {
        "id": "tJG6iBH-gK4j",
        "colab_type": "code",
        "colab": {}
      },
      "source": [
        "\n",
        "cols = ['year','month','dayofweek','day','quarter']\n",
        "for col in cols:\n",
        "    df_train[col] = df_train[col].astype('category')\n",
        "    test[col] = test[col].astype('category')"
      ],
      "execution_count": 0,
      "outputs": []
    },
    {
      "cell_type": "code",
      "metadata": {
        "id": "6kC87vHegOJ_",
        "colab_type": "code",
        "colab": {
          "base_uri": "https://localhost:8080/",
          "height": 85
        },
        "outputId": "d952cd04-4d7f-4d99-bc2f-3a81ef4db8d6"
      },
      "source": [
        "X_Train,X_Test,y_Train,y_Test = train_test_split(X,y,test_size=0.15,random_state=42)\n",
        "print (X_Train.shape)\n",
        "print (y_Train.shape)\n",
        "print (X_Test.shape)\n",
        "print (y_Test.shape)"
      ],
      "execution_count": 41,
      "outputs": [
        {
          "output_type": "stream",
          "text": [
            "(1402, 11)\n",
            "(1402,)\n",
            "(248, 11)\n",
            "(248,)\n"
          ],
          "name": "stdout"
        }
      ]
    },
    {
      "cell_type": "code",
      "metadata": {
        "id": "aRn5ShPagRdS",
        "colab_type": "code",
        "colab": {}
      },
      "source": [
        "test.drop('application_date',axis=1,inplace=True)"
      ],
      "execution_count": 0,
      "outputs": []
    },
    {
      "cell_type": "code",
      "metadata": {
        "id": "F9BdVYfHgWnz",
        "colab_type": "code",
        "colab": {
          "base_uri": "https://localhost:8080/",
          "height": 476
        },
        "outputId": "d4fa4539-0d05-42ed-945d-f962029f37cc"
      },
      "source": [
        "rf = RandomForestRegressor(n_jobs=-1, random_state=42)\n",
        "parameters = {\"n_estimators\":[500,1000,1500,2000],\n",
        "              \"max_depth\":[5,7,9,11],\n",
        "              \"min_samples_leaf\":[2,3,5,7],\n",
        "              \"min_samples_split\":[2,5,7,9]}\n",
        "search = RandomizedSearchCV(estimator=rf,param_distributions=parameters,cv=5,scoring=my_scorer,n_jobs=-1)\n",
        "search.fit(X_Train,y_Train)"
      ],
      "execution_count": 43,
      "outputs": [
        {
          "output_type": "execute_result",
          "data": {
            "text/plain": [
              "RandomizedSearchCV(cv=5, error_score=nan,\n",
              "                   estimator=RandomForestRegressor(bootstrap=True,\n",
              "                                                   ccp_alpha=0.0,\n",
              "                                                   criterion='mse',\n",
              "                                                   max_depth=None,\n",
              "                                                   max_features='auto',\n",
              "                                                   max_leaf_nodes=None,\n",
              "                                                   max_samples=None,\n",
              "                                                   min_impurity_decrease=0.0,\n",
              "                                                   min_impurity_split=None,\n",
              "                                                   min_samples_leaf=1,\n",
              "                                                   min_samples_split=2,\n",
              "                                                   min_weight_fraction_leaf=0.0,\n",
              "                                                   n_estimators=100, n_jobs=-1,\n",
              "                                                   oob_score=False,\n",
              "                                                   random_state=42, verbose=0,\n",
              "                                                   warm_start=False),\n",
              "                   iid='deprecated', n_iter=10, n_jobs=-1,\n",
              "                   param_distributions={'max_depth': [5, 7, 9, 11],\n",
              "                                        'min_samples_leaf': [2, 3, 5, 7],\n",
              "                                        'min_samples_split': [2, 5, 7, 9],\n",
              "                                        'n_estimators': [500, 1000, 1500,\n",
              "                                                         2000]},\n",
              "                   pre_dispatch='2*n_jobs', random_state=None, refit=True,\n",
              "                   return_train_score=False,\n",
              "                   scoring=make_scorer(mean_absolute_percentage_error),\n",
              "                   verbose=0)"
            ]
          },
          "metadata": {
            "tags": []
          },
          "execution_count": 43
        }
      ]
    },
    {
      "cell_type": "code",
      "metadata": {
        "id": "hU1FJw0VgZWY",
        "colab_type": "code",
        "colab": {
          "base_uri": "https://localhost:8080/",
          "height": 34
        },
        "outputId": "04fad9c0-a7eb-499b-ef37-7a477e529cb5"
      },
      "source": [
        "y_pred = search.best_estimator_.predict(X_Test)\n",
        "print (mean_absolute_percentage_error(y_Test,y_pred))"
      ],
      "execution_count": 44,
      "outputs": [
        {
          "output_type": "stream",
          "text": [
            "30.380304203949255\n"
          ],
          "name": "stdout"
        }
      ]
    },
    {
      "cell_type": "code",
      "metadata": {
        "id": "c1_4rxpHgdR0",
        "colab_type": "code",
        "colab": {
          "base_uri": "https://localhost:8080/",
          "height": 221
        },
        "outputId": "4e0c7075-db00-48c6-a580-2230876f5f27"
      },
      "source": [
        "search.best_estimator_,search.best_params_,search.best_score_"
      ],
      "execution_count": 45,
      "outputs": [
        {
          "output_type": "execute_result",
          "data": {
            "text/plain": [
              "(RandomForestRegressor(bootstrap=True, ccp_alpha=0.0, criterion='mse',\n",
              "                       max_depth=5, max_features='auto', max_leaf_nodes=None,\n",
              "                       max_samples=None, min_impurity_decrease=0.0,\n",
              "                       min_impurity_split=None, min_samples_leaf=7,\n",
              "                       min_samples_split=5, min_weight_fraction_leaf=0.0,\n",
              "                       n_estimators=2000, n_jobs=-1, oob_score=False,\n",
              "                       random_state=42, verbose=0, warm_start=False),\n",
              " {'max_depth': 5,\n",
              "  'min_samples_leaf': 7,\n",
              "  'min_samples_split': 5,\n",
              "  'n_estimators': 2000},\n",
              " 27.53345923195537)"
            ]
          },
          "metadata": {
            "tags": []
          },
          "execution_count": 45
        }
      ]
    },
    {
      "cell_type": "code",
      "metadata": {
        "id": "8BuozxlHgqwr",
        "colab_type": "code",
        "colab": {}
      },
      "source": [
        "Sub['case_count'] = search.best_estimator_.predict(test)"
      ],
      "execution_count": 0,
      "outputs": []
    },
    {
      "cell_type": "code",
      "metadata": {
        "id": "xWm_SqjqgtX0",
        "colab_type": "code",
        "colab": {}
      },
      "source": [
        "Sub['case_count'] = Sub['case_count'].astype(int)"
      ],
      "execution_count": 0,
      "outputs": []
    },
    {
      "cell_type": "code",
      "metadata": {
        "id": "Mtr2fWc9gytm",
        "colab_type": "code",
        "colab": {}
      },
      "source": [
        "Sub.to_csv(\"Sub_2.csv\",index=None)"
      ],
      "execution_count": 0,
      "outputs": []
    },
    {
      "cell_type": "code",
      "metadata": {
        "id": "nhFbFOxNg8C0",
        "colab_type": "code",
        "colab": {
          "base_uri": "https://localhost:8080/",
          "height": 419
        },
        "outputId": "894262a9-9eb1-4b18-858b-27f9b1171ec3"
      },
      "source": [
        "Sub"
      ],
      "execution_count": 49,
      "outputs": [
        {
          "output_type": "execute_result",
          "data": {
            "text/html": [
              "<div>\n",
              "<style scoped>\n",
              "    .dataframe tbody tr th:only-of-type {\n",
              "        vertical-align: middle;\n",
              "    }\n",
              "\n",
              "    .dataframe tbody tr th {\n",
              "        vertical-align: top;\n",
              "    }\n",
              "\n",
              "    .dataframe thead th {\n",
              "        text-align: right;\n",
              "    }\n",
              "</style>\n",
              "<table border=\"1\" class=\"dataframe\">\n",
              "  <thead>\n",
              "    <tr style=\"text-align: right;\">\n",
              "      <th></th>\n",
              "      <th>id</th>\n",
              "      <th>application_date</th>\n",
              "      <th>segment</th>\n",
              "      <th>case_count</th>\n",
              "    </tr>\n",
              "  </thead>\n",
              "  <tbody>\n",
              "    <tr>\n",
              "      <th>0</th>\n",
              "      <td>1</td>\n",
              "      <td>2019-07-06</td>\n",
              "      <td>1</td>\n",
              "      <td>2214</td>\n",
              "    </tr>\n",
              "    <tr>\n",
              "      <th>1</th>\n",
              "      <td>2</td>\n",
              "      <td>2019-07-07</td>\n",
              "      <td>1</td>\n",
              "      <td>1715</td>\n",
              "    </tr>\n",
              "    <tr>\n",
              "      <th>2</th>\n",
              "      <td>3</td>\n",
              "      <td>2019-07-08</td>\n",
              "      <td>1</td>\n",
              "      <td>3180</td>\n",
              "    </tr>\n",
              "    <tr>\n",
              "      <th>3</th>\n",
              "      <td>4</td>\n",
              "      <td>2019-07-09</td>\n",
              "      <td>1</td>\n",
              "      <td>3181</td>\n",
              "    </tr>\n",
              "    <tr>\n",
              "      <th>4</th>\n",
              "      <td>5</td>\n",
              "      <td>2019-07-10</td>\n",
              "      <td>1</td>\n",
              "      <td>3181</td>\n",
              "    </tr>\n",
              "    <tr>\n",
              "      <th>...</th>\n",
              "      <td>...</td>\n",
              "      <td>...</td>\n",
              "      <td>...</td>\n",
              "      <td>...</td>\n",
              "    </tr>\n",
              "    <tr>\n",
              "      <th>175</th>\n",
              "      <td>176</td>\n",
              "      <td>2019-10-20</td>\n",
              "      <td>2</td>\n",
              "      <td>16815</td>\n",
              "    </tr>\n",
              "    <tr>\n",
              "      <th>176</th>\n",
              "      <td>177</td>\n",
              "      <td>2019-10-21</td>\n",
              "      <td>2</td>\n",
              "      <td>26678</td>\n",
              "    </tr>\n",
              "    <tr>\n",
              "      <th>177</th>\n",
              "      <td>178</td>\n",
              "      <td>2019-10-22</td>\n",
              "      <td>2</td>\n",
              "      <td>26678</td>\n",
              "    </tr>\n",
              "    <tr>\n",
              "      <th>178</th>\n",
              "      <td>179</td>\n",
              "      <td>2019-10-23</td>\n",
              "      <td>2</td>\n",
              "      <td>26678</td>\n",
              "    </tr>\n",
              "    <tr>\n",
              "      <th>179</th>\n",
              "      <td>180</td>\n",
              "      <td>2019-10-24</td>\n",
              "      <td>2</td>\n",
              "      <td>26670</td>\n",
              "    </tr>\n",
              "  </tbody>\n",
              "</table>\n",
              "<p>180 rows × 4 columns</p>\n",
              "</div>"
            ],
            "text/plain": [
              "      id application_date  segment  case_count\n",
              "0      1       2019-07-06        1        2214\n",
              "1      2       2019-07-07        1        1715\n",
              "2      3       2019-07-08        1        3180\n",
              "3      4       2019-07-09        1        3181\n",
              "4      5       2019-07-10        1        3181\n",
              "..   ...              ...      ...         ...\n",
              "175  176       2019-10-20        2       16815\n",
              "176  177       2019-10-21        2       26678\n",
              "177  178       2019-10-22        2       26678\n",
              "178  179       2019-10-23        2       26678\n",
              "179  180       2019-10-24        2       26670\n",
              "\n",
              "[180 rows x 4 columns]"
            ]
          },
          "metadata": {
            "tags": []
          },
          "execution_count": 49
        }
      ]
    },
    {
      "cell_type": "code",
      "metadata": {
        "id": "bvkFHRgxg_AG",
        "colab_type": "code",
        "colab": {}
      },
      "source": [
        ""
      ],
      "execution_count": 0,
      "outputs": []
    }
  ]
}